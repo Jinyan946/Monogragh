{
 "cells": [
  {
   "cell_type": "code",
   "execution_count": 1,
   "id": "9d46ca69-c5b1-4804-b080-34a82c12ed3e",
   "metadata": {
    "tags": []
   },
   "outputs": [
    {
     "name": "stdout",
     "output_type": "stream",
     "text": [
      "Defaulting to user installation because normal site-packages is not writeable\n",
      "Requirement already satisfied: python-docx in /home/x-jyan2/.local/lib/python3.8/site-packages (0.8.11)\n",
      "Requirement already satisfied: lxml>=2.3.2 in /apps/spack/anvil/apps/anaconda/2021.05-py38-gcc-8.4.1-vrzyh2x/lib/python3.8/site-packages (from python-docx) (4.6.3)\n",
      "Note: you may need to restart the kernel to use updated packages.\n"
     ]
    }
   ],
   "source": [
    "pip install python-docx"
   ]
  },
  {
   "cell_type": "code",
   "execution_count": 2,
   "id": "64999cac-f43b-40e4-9006-ac76752e443d",
   "metadata": {},
   "outputs": [],
   "source": [
    "from docx import Document"
   ]
  },
  {
   "cell_type": "code",
   "execution_count": 65,
   "id": "2bba2102-9f26-409d-8fc2-ef7e7f8b22cd",
   "metadata": {},
   "outputs": [
    {
     "name": "stdout",
     "output_type": "stream",
     "text": [
      "('Project background', 'Project background') :\n",
      "(['L number', 'L-001234567'], ['Generic name', 'Not applicable'], ['Indications', 'Cancer/Colon'], ['Program status', 'Inactive'], ['Furthest milestone', 'M1 (SEP 2020)'], ['OEB1', '3'], ['Molecular Weight2', '412.56'], ['IUPAC chemical name2', '2-[5-(Difluoroethoxy)phenyl]-N-(4-methyl-2,3-dioxo-1λ6-thietan-5yl)-1-(pentan-6-yl)-1H-pyrazolo[4,3-b]pyridine-5-carboxamide'], ['References: ; ; ; 2NB-arvary-50239487-0001', 'References: ; ; ; 2NB-arvary-50239487-0001'])\n",
      "\n",
      "('Physiochemical Properties', 'Physiochemical Properties') :\n",
      "(['API structure', ''], ['Melting Tonset (°C)1,2', '201.5°C; ΔH = 82 J/g'], ['BCS Class1', 'II'], ['Effective Dose Number (Do)1', '44.44'], ['pKa (measured)1', 'pKa = 1.12 (basic), 12.9 (acidic)'], ['Log DpH 7.01', 'Log DpH7.0 = 3.4 (measured HPLC), Log DpH7.4 = 0.88 (ACD)'], ['Tg (°C)3', '61'], ['Phase2', 'Anhydrous, crystalline'], ['Crystallization Classification4', 'Class III (DSC); weak crystallizer'], ['Hygroscopicity 2', 'Non-hygroscopic (<0.5 w/w% change), XRPD unchanged after analysis'], ['References: ; ; 3NB-jdane-5032910-0010; 4Taylor et al.', 'References: ; ; 3NB-jdane-5032910-0010; 4Taylor et al.'])\n",
      "\n",
      "('Enthalpy (J/g)', '80.252 J/g') :\n",
      "(['Peak Temp  (C)', '203.03 C'], ['Tdeg, Onset', '202.40 C'])\n",
      "\n",
      "('Tg, midpoint', '57.61 C') :\n",
      "()\n",
      "\n",
      "('Tg, midpoint', '61.25 C') :\n",
      "()\n",
      "\n",
      "('Parameter', 'Value') :\n",
      "(['Batch Number', 'TIIC-2051-090'], ['Composition', '33.3/66.7 MK-0123/HPMCAS-L'], ['Spray Dryer', 'Niro PSD-1'], ['Solvent', 'Acetone'], ['Solid Loadings', '7.1 w/w%'], ['Atomizer', 'SK 78-16'], ['Drying Gas Flow Rate', '1853 g/min'], ['Inlet Temperature', '116°C'], ['Outlet Temperature', '40°C'], ['Secondary Drying', 'Convection Tray Dryer (no vacuum) @ 40°C/15% RH for 20 hours'], ['References: L-709 SDI Development & Manufacture Report SOW PN-022045', 'References: L-709 SDI Development & Manufacture Report SOW PN-022045'])\n",
      "\n",
      "('Tg, midpoint', '93 C') :\n",
      "()\n",
      "\n",
      "('Tg, midpoint', '91 C') :\n",
      "()\n",
      "\n",
      "('% RH', 'Weight Gain (%)') :\n",
      "(['5', '0.8'], ['20', '1'], ['35', '1.4'], ['50', '2.2'], ['65', '3.3'], ['80', '4.8'], ['95', '6.8'], ['80', '5.2'], ['65', '4.3'], ['50', '3.7'], ['35', '2.8'], ['20', '1.8'], ['5', '0.8'])\n",
      "\n",
      "('Tdeg, Onset', '248.30 C') :\n",
      "(['Weight Loss', '2.247 mg'], ['Weight % Loss', '72.501 %'])\n",
      "\n",
      "('Aqueous Media', 'SDI1', 'Crystalline Form I2') :\n",
      "(['SGF', '0.006', '<0.002'], ['FaSSIF', '0.14', '0.018'], ['FeSSIF', '0.36', '0.07'], ['References: 1NB-tamyu-5033407-0008; 2NB-tamyu-5016063-0021.', 'References: 1NB-tamyu-5033407-0008; 2NB-tamyu-5016063-0021.', 'References: 1NB-tamyu-5033407-0008; 2NB-tamyu-5016063-0021.'])\n",
      "\n",
      "('Solvent', 'Solubility (mg/mL)') :\n",
      "(['Acetone1', '>150'], ['Acetone:Water 95:51', '>150'], ['Acetone:Water 90:101', '>150'], ['Acetone:Water 80:201', '>150'], ['Acetonitrile2', '150.3'], ['n-Heptane2', '<0.1'], ['Methanol2', '36.5'], ['n-Propanol2', '4.9'], ['Isopropyl Acetate2', '43.3'], ['References: 1NB-jdane-5032910-0003; 2NB-figus-5029205-0024', 'References: 1NB-jdane-5032910-0003; 2NB-figus-5029205-0024'])\n",
      "\n",
      "('Percentile', 'Size (µm)') :\n",
      "(['10', '13.01'], ['50', '31.76'], ['90', '62.23'], ['References: NB-jdane-5032910-0026', 'References: NB-jdane-5032910-0026'])\n",
      "\n",
      "('SDI Batch', 'Bulk Density,\\ng/mL', 'Tapped Density,\\ng/mL') :\n",
      "(['ProCepT \\n0001H1', '0.24', '0.36'], ['PSD-1 Probe\\nTIIC-2051-0902', '0.20', '0.34'], ['PSD-1 GLP\\nTIIC-2051-1003', '0.21', '0.31'], ['References: 1NB-jdane-5032910-0008; 2NB-jdane-5035504-0004; 3NB-jdane-5032910-0022', 'References: 1NB-jdane-5032910-0008; 2NB-jdane-5035504-0004; 3NB-jdane-5032910-0022', 'References: 1NB-jdane-5032910-0008; 2NB-jdane-5035504-0004; 3NB-jdane-5032910-0022'])\n",
      "\n",
      "('% RH', 'Tg C, half-height') :\n",
      "(['11', '82'], ['33', '78'], ['54', '70'], ['75', '55'], ['85', '50'])\n",
      "\n",
      "('% Drug Load', 'Tg C, half-height') :\n",
      "(['33', '93'], ['45', '87'], ['55', '85'])\n",
      "\n",
      "('Component', '%w/w', 'mg/Tablet') :\n",
      "(['MK-0123 SDI, 33.33% DL', '30.00', '300.03'], ['Avicel PH-102', '32.00', '319.98'], ['Lactose 316', '32.00', '319.98'], ['Croscarmellose Sodium', '5.00', '50.00'], ['Magnesium Stearate (intra)', '0.50', '5.00'], ['Magnesium Stearate (extra)', '0.50', '5.00'], ['1000 mg tablet image size', '1000 mg tablet image size', '1000 mg tablet image size'])\n",
      "\n",
      "('Package Configuration', 'Temperature', '%RH', 'Timepoint') :\n",
      "(['Closed', '5', '30', '3 months'], ['Closed', '30', '65', '3 months'], ['Open', '40', '75', '3 months'])\n",
      "\n",
      "('Time\\npoint', 'Condition', 'Percent of Label Claim (% LC)', 'Percent of Label Claim (% LC)', 'Percent of Label Claim (% LC)', 'Percent of Label Claim (% LC)') :\n",
      "(['Time\\npoint', 'Condition', 'MK-0123', 'DEG\\n1.11RRT', 'DEG\\n0.73RRT', 'IMP\\n0.99RRT'], ['3-Month', '5°C/Amb Closed', '99.5', 'ND', 'ND', 'ND'], ['3-Month', '30°C/65% RH Closed', '99.6', '0.03', 'ND', 'ND'], ['3-Month', '40°C/75% RH Closed', '98.1', '0.03', '0.08', '0.04'], ['3-Month', '40°C/75% RH Open', '99.8', '0.04', '0.10', '0.06'], ['ND = Not detected; Recording Threshold (RecTh) = 0.03%; Reporting Threshold (RepTh) = 0.1%', 'ND = Not detected; Recording Threshold (RecTh) = 0.03%; Reporting Threshold (RepTh) = 0.1%', 'ND = Not detected; Recording Threshold (RecTh) = 0.03%; Reporting Threshold (RepTh) = 0.1%', 'ND = Not detected; Recording Threshold (RecTh) = 0.03%; Reporting Threshold (RepTh) = 0.1%', 'ND = Not detected; Recording Threshold (RecTh) = 0.03%; Reporting Threshold (RepTh) = 0.1%', 'ND = Not detected; Recording Threshold (RecTh) = 0.03%; Reporting Threshold (RepTh) = 0.1%'])\n",
      "\n",
      "('Time Point (min)', 'SDI-Avicel\\n% Dissolved', 'SDI-SGF (Pre-Mixed)\\n% Dissolved', 'SDI-Avicel (Before)\\n%Dissolved', 'SDI-(Pre-Mixed) 0.02% Tween %Dissolved') :\n",
      "(['0', '0', '0', '0', '0'], ['18', '57', '48', '60', '59'], ['30', '69', '63', '70', '67'], ['42', '70', '67', '71', '68'], ['60', '70', '68', '71', '70'], ['90', '72', '69', '71', '70'], ['120', '72', '70', '71', '70'])\n",
      "\n",
      "('Time Point (min)', 'SDI-Avicel\\n(ug/ml)', 'SDI-SGF (Pre-Mixed)\\n(ug/ml)', 'SDI-Avicel (Before)\\n(ug/ml)', 'SDI-(Pre-Mixed) 0.02% Tween (ug/ml)') :\n",
      "(['0', '0', '0', '0', '0'], ['18', '95', '83', '100', '95'], ['30', '115', '110', '115', '112'], ['42', '120', '112', '120', '115'], ['60', '120', '116', '120', '116'], ['90', '122', '118', '121', '118'], ['120', '125', '120', '122', '120'])\n",
      "\n",
      "('Time (mins)', 'Initial Concentration (ug/ml)', '24h Concentration (ug/ml)', '48h Concentration (ug/ml)') :\n",
      "(['0', '0', '0', '0'], ['15', '50', '65', '65'], ['30', '75', '80', '80'], ['45', '80', '87', '85'], ['60', '82', '90', '89'], ['90', '85', '91', '90'], ['120', '87', '92', '91'], ['150', '89', '92', '92'])\n",
      "\n",
      "('Time (mins)', 'Initial - %Dissolved', '24h - %Dissolved', '48h - %Dissolved') :\n",
      "(['0', '0', '0', '0'], ['15', '55', '70', '70'], ['30', '80', '90', '90'], ['45', '85', '92', '90'], ['60', '86', '95', '92'], ['90', '87', '97', '95'], ['120', '88', '99', '97'], ['150', '90', '100', '100'])\n",
      "\n",
      "('Time (mins)', '1mg - %Dissolved', '100mg - %Dissolved') :\n",
      "(['0', '0', '0'], ['10', '1', '15'], ['20', '1', '17'], ['30', '1', '20'], ['45', '55', '82'], ['60', '62', '90'], ['90', '65', '92'], ['120', '68', '95'])\n",
      "\n",
      "('Time (mins)', '1mg – Dissolved (ug/ml)', '100mg - Dissolved (ug/ml)') :\n",
      "(['0', '0', '0'], ['10', '0', '10'], ['20', '0', '10'], ['30', '0', '12'], ['45', '1', '110'], ['60', '1', '130'], ['90', '1', '135'], ['120', '1', '138'])\n",
      "\n",
      "('Time (mins)', '100mg Filter - %Dissolved', '100mg 80K - %Dissolved') :\n",
      "(['0', '0', 'N/A'], ['20', '70', 'N/A'], ['30', '90', 'N/A'], ['50', '93', 'N/A'], ['60', '92', 'N/A'], ['90', '95', 'N/A'], ['120', '95', '70'], ['180', '95', '75'], ['240', '85', '70'])\n",
      "\n",
      "('Time (mins)', '100mg – Dissolved (ug/ml)', 'SDI - Dissolved (ug/ml)') :\n",
      "(['0', '0', '0'], ['15', '110', '95'], ['30', '120', '118'], ['45', '121', '119'], ['60', '122', '120'], ['90', '125', '122'], ['120', '126', '124'])\n",
      "\n",
      "('SDI Composition', '%DL', 'Polymer', 'Surfactant', '%Surfactant') :\n",
      "(['33%DL/HPMCAS-L', '33', 'HPMCAS-L', 'None', 'None'], ['45%DL/HPMCAS-L', '45', 'HPMCAS-L', 'None', 'None'], ['55%DL/HPMCAS-L', '55', 'HPMCAS-L', 'None', 'None'], ['33%DL/HPMCAS-M', '33', 'HPMCAS-M', 'None', 'None'], ['33%DL/HPMCAS-H', '33', 'HPMCAS-H', 'None', 'None'], ['33%DL/VA64', '33', 'VA64', 'None', 'None'], ['33%DL/VA64/5%SLS', '33', 'VA64', 'SLS', '5'], ['33%DL/VA64/5%\\nTPGS', '33', 'VA64', 'TPGS', '5'], ['33%DL/VA64/5%\\nCremophor EL', '33', 'VA64', 'Cremophor EL', '5'], ['33%DL/HPMC 3cp', '33', 'HPMC', 'None', 'None'], ['33%DL/HPMC 3cp/5%SLS', '33', 'HPMC', 'SLS', '5'], ['33%DL/HPMC 3cp/5%TPGS', '33', 'HPMC', 'TPGS', '5'], ['Reference:', 'Reference:', 'Reference:', 'Reference:', 'Reference:'])\n",
      "\n",
      "('Tg, midpoint', '91.43') :\n",
      "()\n",
      "\n",
      "('Tg, midpoint', '84.88 C') :\n",
      "(['Tdeg, Onset-1', '163.61 C'], ['Enthalpy -1', '2.3132 J/g'], ['Peak Temp -1', '175.58 C'], ['Tdeg, Onset-2', '183.24 C'], ['Enthalpy -2', '1.2976 J/g'], ['Peak Temp -2', '186.28 C'])\n",
      "\n",
      "('Tg, midpoint', '108.58 C') :\n",
      "(['Tdeg, Onset', '132.53 C'], ['Enthalpy', '2.7835 J/g'], ['Peak Temp', '141.84 C'])\n",
      "\n",
      "('Time (mins)', 'API - (ug/ml)', '33%DL/ HPMCAS-L (ug/ml)', '45%DL/ HPMCAS-L (ug/ml)', '55%DL/ HPMCAS-L (ug/ml)', '33%DL/ HPMCAS-M (ug/ml)', '33%DL/ HPMCAS-H (ug/ml)', '33%DL/  VA64 (ug/ml)', '33%DL/ HPMC 3cp (ug/ml)') :\n",
      "(['30', '0', '10', '10', '10', '10', '10', '20', '20'], ['60', '20', '180', '190', '170', '140', '45', '110', '110'], ['90', '20', '170', '190', '180', '125', '50', '125', '125'], ['120', '25', '180', '210', '190', '135', '60', '135', '135'], ['240', '25', '170', '180', '180', '125', '70', '60', '40'])\n",
      "\n",
      "('Time (mins)', '33%DL/ HPMCAS-L (ug/ml)', '33%DL/ VA64 (ug/ml)', '33%DL/ VA64 / 5%SLS (ug/ml)', '33%DL/ VA64 / 5%TPGS (ug/ml)', '33%DL/ VA64 / 5% Cremorphor EL (ug/ml)') :\n",
      "(['30', '5', '10', '380', '30', '10'], ['60', '180', '120', '245', '180', '95'], ['90', '170', '130', '240', '185', '90'], ['120', '190', '140', '255', '190', '80'], ['240', '170', '60', '100', '40', '25'])\n",
      "\n",
      "('Time (mins)', '33%DL/ HPMCAS-L (ug/ml)', '33%DL/ HPMC 3cp (ug/ml)', '33%DL/ HPMC 3cp / 5%SLS (ug/ml)', '33%DL/ HPMC 3cp / 5%TPGS (ug/ml)') :\n",
      "(['30', '5', '10', '10', '20'], ['60', '180', '110', '200', '50'], ['90', '170', '125', '175', '50'], ['120', '190', '140', '120', '52'], ['240', '160', '40', '80', '47'])\n",
      "\n"
     ]
    }
   ],
   "source": [
    "docx_path = \"tdm111/monograph.docx\"\n",
    "\n",
    "#def extract_tables_from_docx(docx_path):\n",
    "\n",
    "doc = Document('monograph.docx')\n",
    "\n",
    "#table = doc.tables[0]\n",
    "tables_list = []\n",
    "for table in doc.tables:\n",
    "    table_data = []\n",
    "    for row in table.rows:  #[:-1]\n",
    "        row_data = [cell.text.strip() for cell in row.cells]\n",
    "        table_data.append(row_data)\n",
    "    tables_list.append(table_data)\n",
    "\n",
    "#print(tables_list)\n",
    "#print(table_data)\n",
    "\n",
    "res = dict()\n",
    "#res[tuple(table_data[0])] = tuple(table_data[1:])\n",
    "for sub in tables_list:\n",
    "    res[tuple(sub[0])] = tuple(sub[1:])\n",
    "\n",
    "for key, value in res.items():\n",
    "    #print(key, \":\", value)\n",
    "    print(key, \":\")\n",
    "    print(value)\n",
    "    print()\n",
    "    \n",
    "\n",
    "   # return table #tables_list \n"
   ]
  },
  {
   "cell_type": "code",
   "execution_count": null,
   "id": "2e190c85-0456-45f1-9fef-58fab1597715",
   "metadata": {},
   "outputs": [],
   "source": []
  },
  {
   "cell_type": "code",
   "execution_count": null,
   "id": "e2f58c2e-5edc-46ae-92fa-c3b88ae46a6b",
   "metadata": {},
   "outputs": [],
   "source": []
  },
  {
   "cell_type": "code",
   "execution_count": null,
   "id": "c4a72094-851f-46ef-911f-1533103cc6cf",
   "metadata": {},
   "outputs": [],
   "source": []
  },
  {
   "cell_type": "code",
   "execution_count": null,
   "id": "f8926372-e195-4040-b064-86303c60a4f2",
   "metadata": {},
   "outputs": [],
   "source": []
  },
  {
   "cell_type": "code",
   "execution_count": null,
   "id": "1aa9acfd-d538-44fc-baac-f9152c6c8a85",
   "metadata": {},
   "outputs": [],
   "source": []
  },
  {
   "cell_type": "code",
   "execution_count": null,
   "id": "863eb2fa-859c-49c3-87eb-875a1d0efccf",
   "metadata": {},
   "outputs": [],
   "source": []
  }
 ],
 "metadata": {
  "kernelspec": {
   "display_name": "Python 3.8 (Anaconda 2021.05)",
   "language": "python",
   "name": "anaconda-2021.05-py38"
  },
  "language_info": {
   "codemirror_mode": {
    "name": "ipython",
    "version": 3
   },
   "file_extension": ".py",
   "mimetype": "text/x-python",
   "name": "python",
   "nbconvert_exporter": "python",
   "pygments_lexer": "ipython3",
   "version": "3.8.8"
  }
 },
 "nbformat": 4,
 "nbformat_minor": 5
}
